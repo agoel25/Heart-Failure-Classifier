{
 "cells": [
  {
   "cell_type": "markdown",
   "metadata": {},
   "source": [
    "Proposal for Group 42"
   ]
  },
  {
   "cell_type": "markdown",
   "metadata": {},
   "source": [
    "Introduction:\n",
    "Cardiovascular diseases, which kill approximately 17 million people in the world, include heart attacks, heart strokes, and heart failure. Heart failure is caused when the heart cannot successfully send the required amount of blood to the body (Chicco, 2020). In this project, we will predict what factors determine whether patients can survive after heart failure. We will use dataset \"https://archive.ics.uci.edu/ml/machine-learning-databases/00519/heart_failure_clinical_records_dataset.csv\", which collects the data of 299 patients after heart failure at the Faisalabad Institute of Cardiology and at the Allied Hospital in Faisalabad during April to December 2015. \n"
   ]
  },
  {
   "cell_type": "code",
   "execution_count": 1,
   "metadata": {},
   "outputs": [
    {
     "name": "stderr",
     "output_type": "stream",
     "text": [
      "── \u001b[1mAttaching packages\u001b[22m ─────────────────────────────────────── tidyverse 1.3.0 ──\n",
      "\n",
      "\u001b[32m✔\u001b[39m \u001b[34mggplot2\u001b[39m 3.3.2     \u001b[32m✔\u001b[39m \u001b[34mpurrr  \u001b[39m 0.3.4\n",
      "\u001b[32m✔\u001b[39m \u001b[34mtibble \u001b[39m 3.0.3     \u001b[32m✔\u001b[39m \u001b[34mdplyr  \u001b[39m 1.0.2\n",
      "\u001b[32m✔\u001b[39m \u001b[34mtidyr  \u001b[39m 1.1.2     \u001b[32m✔\u001b[39m \u001b[34mstringr\u001b[39m 1.4.0\n",
      "\u001b[32m✔\u001b[39m \u001b[34mreadr  \u001b[39m 1.3.1     \u001b[32m✔\u001b[39m \u001b[34mforcats\u001b[39m 0.5.0\n",
      "\n",
      "Warning message:\n",
      "“package ‘ggplot2’ was built under R version 4.0.1”\n",
      "Warning message:\n",
      "“package ‘tibble’ was built under R version 4.0.2”\n",
      "Warning message:\n",
      "“package ‘tidyr’ was built under R version 4.0.2”\n",
      "Warning message:\n",
      "“package ‘dplyr’ was built under R version 4.0.2”\n",
      "── \u001b[1mConflicts\u001b[22m ────────────────────────────────────────── tidyverse_conflicts() ──\n",
      "\u001b[31m✖\u001b[39m \u001b[34mdplyr\u001b[39m::\u001b[32mfilter()\u001b[39m masks \u001b[34mstats\u001b[39m::filter()\n",
      "\u001b[31m✖\u001b[39m \u001b[34mdplyr\u001b[39m::\u001b[32mlag()\u001b[39m    masks \u001b[34mstats\u001b[39m::lag()\n",
      "\n",
      "Warning message:\n",
      "“package ‘tidymodels’ was built under R version 4.0.2”\n"
     ]
    },
    {
     "ename": "ERROR",
     "evalue": "Error: package or namespace load failed for ‘tidymodels’:\n .onLoad failed in loadNamespace() for 'future', details:\n  call: basename(pwd)\n  error: a character vector argument expected\n",
     "output_type": "error",
     "traceback": [
      "Error: package or namespace load failed for ‘tidymodels’:\n .onLoad failed in loadNamespace() for 'future', details:\n  call: basename(pwd)\n  error: a character vector argument expected\nTraceback:\n",
      "1. library(tidymodels)",
      "2. tryCatch({\n .     attr(package, \"LibPath\") <- which.lib.loc\n .     ns <- loadNamespace(package, lib.loc)\n .     env <- attachNamespace(ns, pos = pos, deps, exclude, include.only)\n . }, error = function(e) {\n .     P <- if (!is.null(cc <- conditionCall(e))) \n .         paste(\" in\", deparse(cc)[1L])\n .     else \"\"\n .     msg <- gettextf(\"package or namespace load failed for %s%s:\\n %s\", \n .         sQuote(package), P, conditionMessage(e))\n .     if (logical.return) \n .         message(paste(\"Error:\", msg), domain = NA)\n .     else stop(msg, call. = FALSE, domain = NA)\n . })",
      "3. tryCatchList(expr, classes, parentenv, handlers)",
      "4. tryCatchOne(expr, names, parentenv, handlers[[1L]])",
      "5. value[[3L]](cond)",
      "6. stop(msg, call. = FALSE, domain = NA)"
     ]
    }
   ],
   "source": [
    "library(tidyverse)\n",
    "library(tidymodels)\n",
    "library(repr)\n",
    "options(repr.matrix.max.rows = 6)"
   ]
  },
  {
   "cell_type": "code",
   "execution_count": null,
   "metadata": {},
   "outputs": [],
   "source": [
    "#reads in data as well as turns relevant double columns into factors \n",
    "\n",
    "url<- \"https://archive.ics.uci.edu/ml/machine-learning-databases/00519/heart_failure_clinical_records_dataset.csv\"\n",
    "\n",
    "\n",
    "heart_data <- read_csv(url)%>%\n",
    "    mutate(sex = as_factor(sex))%>%\n",
    "    mutate(smoking = as_factor(smoking))%>%\n",
    "    mutate(DEATH_EVENT = as_factor(DEATH_EVENT))%>%\n",
    "    mutate(high_blood_pressure = as_factor(high_blood_pressure))%>%\n",
    "    mutate(diabetes = as_factor(diabetes))%>%\n",
    "    mutate(anaemia= as_factor(anaemia)) \n",
    "\n",
    "\n",
    "#creates factor levels for columns that make sense with column name \n",
    "levels(heart_data$sex)<- c(\"female\",\"male\")\n",
    "levels(heart_data$smoking)<- c(\"no\",\"yes\")\n",
    "levels(heart_data$DEATH_EVENT)<- c(\"died\",\"survived\")\n",
    "levels(heart_data$high_blood_pressure)<- c(\"no\",\"yes\")\n",
    "levels(heart_data$diabetes)<- c(\"no\",\"yes\")\n",
    "levels(heart_data$anaemia)<- c(\"no\",\"yes\")\n",
    "\n",
    "\n",
    "#split the data into training and testing data \n",
    "heart_data_split<- initial_split(heart_data, prop = .75, strata = DEATH_EVENT)\n",
    "heart_train<- training(heart_data_split)\n",
    "heart_test<- testing(heart_data_split)\n",
    " \n",
    "\n",
    "\n"
   ]
  },
  {
   "cell_type": "markdown",
   "metadata": {},
   "source": [
    "The above code writes in our data as well as does some wrangling and preparing for classifying. In the first block of code changes all categories to factors that we migth want to use as predictors. The second block of code changes the columns to have classifications that make sense with their variable instead of just binary 1 or 0. The last block of code splits the data into training and testing data with proportion  "
   ]
  },
  {
   "cell_type": "code",
   "execution_count": null,
   "metadata": {},
   "outputs": [],
   "source": [
    "#looking at the percentage of affermatives and negatives for each possible catergorical class to give a reason about why we chose DEATH_EVENT\n",
    "num_obs <- nrow(heart_train)\n",
    "anaemia_dist <- heart_train %>% \n",
    "  group_by(anaemia) %>% \n",
    "  summarize(\n",
    "    count = n(),\n",
    "    percentage = n() / num_obs * 100\n",
    "  )\n",
    "diabetes_dist <- heart_train %>% \n",
    "  group_by(diabetes) %>% \n",
    "  summarize(\n",
    "    count = n(),\n",
    "    percentage = n() / num_obs * 100\n",
    "  )\n",
    "bp_dist <- heart_train %>% \n",
    "  group_by(high_blood_pressure) %>% \n",
    "  summarize(\n",
    "    count = n(),\n",
    "    percentage = n() / num_obs * 100\n",
    "  )\n",
    "death_dist <- heart_train %>% \n",
    "  group_by(DEATH_EVENT) %>% \n",
    "  summarize(\n",
    "    count = n(),\n",
    "    percentage = n() / num_obs * 100\n",
    "  )\n",
    "\n",
    "anaemia_dist\n",
    "diabetes_dist\n",
    "bp_dist\n",
    "death_dist"
   ]
  },
  {
   "cell_type": "markdown",
   "metadata": {},
   "source": [
    "The distribution of all categorical classes can be seen above, since range of their distrubutions is within 10, statistically any of them can be chosen as a viable class to predict. However, due to the medical significance and strength of corelation to the features, we decided to choose \"DEATH_EVENT\" as the class which we will try to predict."
   ]
  },
  {
   "cell_type": "markdown",
   "metadata": {},
   "source": [
    "Following this analysis, all other categorical data types were removed from the dataframe. "
   ]
  },
  {
   "cell_type": "code",
   "execution_count": null,
   "metadata": {},
   "outputs": [],
   "source": [
    "# CODE TO SELECT THE BEST PREDICTOR VARIABLES\n",
    "\n",
    "# # remove categorical columns from the dataset and only keep numerical\n",
    "# heart_numerical <- heart_data %>% \n",
    "#     select(-anaemia, -diabetes, -high_blood_pressure, -sex, -smoking, -time)\n",
    "\n",
    "# #Evaluate which predictive variables to choose\n",
    "\n",
    "# # create object of names of all predictive variables\n",
    "# names <- colnames(heart_numerical %>% select(-DEATH_EVENT))\n",
    "\n",
    "# # create an empty tibble to store the results\n",
    "# accuracies <- tibble(size = integer(), \n",
    "#                      model_string = character(), \n",
    "#                      accuracy = numeric())\n",
    "\n",
    "# # create a model specification\n",
    "# knn_spec <- nearest_neighbor(weight_func = \"rectangular\", \n",
    "#                              neighbors = tune()) %>% \n",
    "#      set_engine(\"kknn\") %>% \n",
    "#      set_mode(\"classification\")\n",
    "\n",
    "# # create a 5-fold cross-validation object\n",
    "# heart_vfold <- vfold_cv(heart_numerical, v = 5, strata = DEATH_EVENT)\n",
    "\n",
    "# # store the total number of predictors\n",
    "# n_total <- length(names)\n",
    "\n",
    "# # stores selected predictors\n",
    "# selected <- c()\n",
    "\n",
    "# # for every size from 1 to the total number of predictors\n",
    "# for (i in 1:n_total) {\n",
    "#     # for every predictor still not added yet\n",
    "#     accs <- list()\n",
    "#     models <- list()\n",
    "#     for (j in 1:length(names)) {\n",
    "#         # create a model string for this combination of predictors\n",
    "#         preds_new <- c(selected, names[[j]])\n",
    "#         model_string <- paste(\"DEATH_EVENT\", \"~\", paste(preds_new, collapse=\"+\"))\n",
    "\n",
    "#         # create a recipe from the model string\n",
    "#         heart_recipe <- recipe(as.formula(model_string), \n",
    "#                                 data = heart_numerical) %>% \n",
    "#                           step_scale(all_predictors()) %>% \n",
    "#                           step_center(all_predictors())\n",
    "\n",
    "#         # tune the KNN classifier with these predictors, \n",
    "#         # and collect the accuracy for the best K\n",
    "#         acc <- workflow() %>% \n",
    "#           add_recipe(heart_recipe) %>% \n",
    "#           add_model(knn_spec) %>% \n",
    "#           tune_grid(resamples = heart_vfold, grid = 10) %>% \n",
    "#           collect_metrics() %>% \n",
    "#           filter(.metric == \"accuracy\") %>% \n",
    "#           summarize(mx = max(mean))\n",
    "#         acc <- acc$mx %>% unlist()\n",
    "\n",
    "#         # add this result to the dataframe\n",
    "#         accs[[j]] <- acc\n",
    "#         models[[j]] <- model_string\n",
    "#     }\n",
    "#     jstar <- which.max(unlist(accs))\n",
    "#     accuracies <- accuracies %>% \n",
    "#       add_row(size = i, \n",
    "#               model_string = models[[jstar]], \n",
    "#               accuracy = accs[[jstar]])\n",
    "#     selected <- c(selected, names[[jstar]])\n",
    "#     names <- names[-jstar]\n",
    "# }\n",
    "\n",
    "# accuracies"
   ]
  },
  {
   "cell_type": "markdown",
   "metadata": {},
   "source": [
    "From this table we can see that the ejection fraction and age have the greates accuracy for predicting a death event. However, sinceit is clear older age is more likely to lead to a death event we will use the second most accurate set of predictors which is ejection fraction and serum creatine without age. "
   ]
  },
  {
   "cell_type": "code",
   "execution_count": null,
   "metadata": {},
   "outputs": [],
   "source": [
    "options(repr.plot.height = 10, repr.plot.width = 15)\n",
    "\n",
    "heart_plot<- heart_train%>%\n",
    "    ggplot(aes(x= serum_creatinine, y = ejection_fraction))+\n",
    "    geom_point(aes(color = DEATH_EVENT))+\n",
    "    labs(x = \"Serum Creatinine Levels (mg/dL)\", y = \"Ejection Fraction (%)\", \n",
    "         title = \"Serum Creatinine and Ejection Fraction\\n as Predictors for a Death Event\",\n",
    "         color = \"Patient Outcome\")+\n",
    "    theme(text = element_text(size = 20), plot.title = element_text(hjust = .5))+\n",
    "    scale_x_log10()\n",
    "\n",
    "heart_plot"
   ]
  },
  {
   "cell_type": "markdown",
   "metadata": {},
   "source": [
    "The plot above shows the distribution of our two predictors in relation to our variable that we are trying to predict, death event (in this graph it is labeled as patient outcome, but that is the same as death event)."
   ]
  },
  {
   "cell_type": "markdown",
   "metadata": {},
   "source": [
    "Expected outcomes and significance\n",
    "\n",
    "We expect to find that serum creatine and ejection fraction can accuratly predict if a patient who has already suffered heart failure is likely to survive in the following days. By taking these predictors and applying them to new patients who have suffered heart failure we can make accurate predictions about what the this patients survival in the following days after their heart failure. This can help hospitals identify which patients will need special care and treatment in the following days after heart failure in order to increase chance of survival. Future studies may want to recreate this study in other datasets as well as larger datasets in order to improve reliability. They may also want to look at these variables as predictors for other diseases and illnesses such as renal failure and high blood pressure."
   ]
  }
 ],
 "metadata": {
  "kernelspec": {
   "display_name": "R",
   "language": "R",
   "name": "ir"
  },
  "language_info": {
   "codemirror_mode": "r",
   "file_extension": ".r",
   "mimetype": "text/x-r-source",
   "name": "R",
   "pygments_lexer": "r",
   "version": "4.0.0"
  }
 },
 "nbformat": 4,
 "nbformat_minor": 4
}
