{
 "cells": [
  {
   "cell_type": "markdown",
   "metadata": {},
   "source": [
    "Proposal for Group 42"
   ]
  },
  {
   "cell_type": "markdown",
   "metadata": {},
   "source": [
    "Let's upload our possible datasets in the data folder so we can easily have a look at them and possibly run some functions on them if we need. "
   ]
  },
  {
   "cell_type": "raw",
   "metadata": {},
   "source": [
    "Introduction:\n",
    "Cardiovascular diseases, which kill approximately 17 million people in the world, include heart attacks, heart strokes, and heart failure. Heart failure is caused when the heart cannot successfully send the required amount of blood to the body (Chicco, 2020). In this project, we will predict what factors determine whether patients can survive after heart failure. We will use dataset \"https://archive.ics.uci.edu/ml/machine-learning-databases/00519/heart_failure_clinical_records_dataset.csv\", which collects the data of 299 patients after heart failure at the Faisalabad Institute of Cardiology and at the Allied Hospital in Faisalabad during April to December 2015. \n"
   ]
  },
  {
   "cell_type": "code",
   "execution_count": 2,
   "metadata": {},
   "outputs": [
    {
     "name": "stderr",
     "output_type": "stream",
     "text": [
      "── \u001b[1mAttaching packages\u001b[22m ─────────────────────────────────────── tidyverse 1.3.0 ──\n",
      "\n",
      "\u001b[32m✔\u001b[39m \u001b[34mggplot2\u001b[39m 3.3.2     \u001b[32m✔\u001b[39m \u001b[34mpurrr  \u001b[39m 0.3.4\n",
      "\u001b[32m✔\u001b[39m \u001b[34mtibble \u001b[39m 3.0.3     \u001b[32m✔\u001b[39m \u001b[34mdplyr  \u001b[39m 1.0.2\n",
      "\u001b[32m✔\u001b[39m \u001b[34mtidyr  \u001b[39m 1.1.2     \u001b[32m✔\u001b[39m \u001b[34mstringr\u001b[39m 1.4.0\n",
      "\u001b[32m✔\u001b[39m \u001b[34mreadr  \u001b[39m 1.3.1     \u001b[32m✔\u001b[39m \u001b[34mforcats\u001b[39m 0.5.0\n",
      "\n",
      "Warning message:\n",
      "“package ‘ggplot2’ was built under R version 4.0.1”\n",
      "Warning message:\n",
      "“package ‘tibble’ was built under R version 4.0.2”\n",
      "Warning message:\n",
      "“package ‘tidyr’ was built under R version 4.0.2”\n",
      "Warning message:\n",
      "“package ‘dplyr’ was built under R version 4.0.2”\n",
      "── \u001b[1mConflicts\u001b[22m ────────────────────────────────────────── tidyverse_conflicts() ──\n",
      "\u001b[31m✖\u001b[39m \u001b[34mdplyr\u001b[39m::\u001b[32mfilter()\u001b[39m masks \u001b[34mstats\u001b[39m::filter()\n",
      "\u001b[31m✖\u001b[39m \u001b[34mdplyr\u001b[39m::\u001b[32mlag()\u001b[39m    masks \u001b[34mstats\u001b[39m::lag()\n",
      "\n"
     ]
    }
   ],
   "source": [
    "library(tidyverse)\n",
    "library(repr)\n",
    "options(repr.matrix.max.rows = 6)"
   ]
  },
  {
   "cell_type": "code",
   "execution_count": 3,
   "metadata": {},
   "outputs": [
    {
     "name": "stderr",
     "output_type": "stream",
     "text": [
      "Parsed with column specification:\n",
      "cols(\n",
      "  age = \u001b[32mcol_double()\u001b[39m,\n",
      "  anaemia = \u001b[32mcol_double()\u001b[39m,\n",
      "  creatinine_phosphokinase = \u001b[32mcol_double()\u001b[39m,\n",
      "  diabetes = \u001b[32mcol_double()\u001b[39m,\n",
      "  ejection_fraction = \u001b[32mcol_double()\u001b[39m,\n",
      "  high_blood_pressure = \u001b[32mcol_double()\u001b[39m,\n",
      "  platelets = \u001b[32mcol_double()\u001b[39m,\n",
      "  serum_creatinine = \u001b[32mcol_double()\u001b[39m,\n",
      "  serum_sodium = \u001b[32mcol_double()\u001b[39m,\n",
      "  sex = \u001b[32mcol_double()\u001b[39m,\n",
      "  smoking = \u001b[32mcol_double()\u001b[39m,\n",
      "  time = \u001b[32mcol_double()\u001b[39m,\n",
      "  DEATH_EVENT = \u001b[32mcol_double()\u001b[39m\n",
      ")\n",
      "\n"
     ]
    }
   ],
   "source": [
    "#reads in data as well as turns relevant double columns into factors \n",
    "\n",
    "url<- \"https://archive.ics.uci.edu/ml/machine-learning-databases/00519/heart_failure_clinical_records_dataset.csv\"\n",
    "\n",
    "\n",
    "heart_data <- read_csv(url)%>%\n",
    "    mutate(sex = as_factor(sex))%>%\n",
    "    mutate(smoking = as_factor(smoking))%>%\n",
    "    mutate(DEATH_EVENT = as_factor(DEATH_EVENT))%>%\n",
    "    mutate(high_blood_pressure = as_factor(high_blood_pressure))%>%\n",
    "    mutate(diabetes = as_factor(diabetes))%>%\n",
    "    mutate(anaemia= as_factor(anaemia)) #%>% \n",
    "    #select(creatinine_phosphokinase, ejection_fraction, platelets, DEATH_EVENT)\n",
    "\n",
    "\n",
    "#creates factor levels for columns that make sense with column name \n",
    "levels(heart_data$sex)<- c(\"female\",\"male\")\n",
    "levels(heart_data$smoking)<- c(\"no\",\"yes\")\n",
    "levels(heart_data$DEATH_EVENT)<- c(\"died\",\"survived\")\n",
    "levels(heart_data$high_blood_pressure)<- c(\"no\",\"yes\")\n",
    "levels(heart_data$diabetes)<- c(\"no\",\"yes\")\n",
    "levels(heart_data$anaemia)<- c(\"no\",\"yes\")\n",
    "\n",
    "\n",
    "#normalize platelets column so that all values are a fraction of the max value \n",
    "max_plat<- max(heart_data$platelets)\n",
    "heart_data_platelets_norm <- heart_data%>%\n",
    "    mutate(platelets_norm = platelets/max_plat)%>%\n",
    "    select(-platelets)%>%\n",
    "    relocate(platelets_norm, .before = serum_creatinine)\n",
    "\n",
    " \n",
    "\n",
    "\n"
   ]
  },
  {
   "cell_type": "markdown",
   "metadata": {},
   "source": [
    "Possible Predictive Questions\n",
    "-Does a patient have high blood pressure if they smoke and have diabetes?\n",
    "-Will a patient experience a death event if they smoke, have high blood pressure and are over 70?\n",
    "-If a patient smokes and has low platelet(less than 25% of max platelet in study) count will they have anaemia?"
   ]
  },
  {
   "cell_type": "code",
   "execution_count": 4,
   "metadata": {},
   "outputs": [
    {
     "data": {
      "image/png": "[encoded data removed]",
      "text/plain": [
       "plot without title"
      ]
     },
     "metadata": {
      "image/png": {
       "height": 420,
       "width": 420
      }
     },
     "output_type": "display_data"
    }
   ],
   "source": [
    "#example question if we were to look at how serum creatinine and ejection fraction can be used as predictors of a death event\n",
    "\n",
    "serum_data <- heart_data%>%\n",
    "    ggplot(aes(x = platelets, y = ejection_fraction, color = DEATH_EVENT))+\n",
    "    geom_point()\n",
    "    \n",
    "\n",
    "serum_data"
   ]
  },
  {
   "cell_type": "code",
   "execution_count": 5,
   "metadata": {},
   "outputs": [
    {
     "name": "stderr",
     "output_type": "stream",
     "text": [
      "`summarise()` ungrouping output (override with `.groups` argument)\n",
      "\n",
      "`summarise()` ungrouping output (override with `.groups` argument)\n",
      "\n",
      "`summarise()` ungrouping output (override with `.groups` argument)\n",
      "\n",
      "`summarise()` ungrouping output (override with `.groups` argument)\n",
      "\n"
     ]
    },
    {
     "data": {
      "text/html": [
       "<table>\n",
       "<caption>A tibble: 2 × 3</caption>\n",
       "<thead>\n",
       "\t<tr><th scope=col>anaemia</th><th scope=col>count</th><th scope=col>percentage</th></tr>\n",
       "\t<tr><th scope=col>&lt;fct&gt;</th><th scope=col>&lt;int&gt;</th><th scope=col>&lt;dbl&gt;</th></tr>\n",
       "</thead>\n",
       "<tbody>\n",
       "\t<tr><td>no </td><td>170</td><td>56.85619</td></tr>\n",
       "\t<tr><td>yes</td><td>129</td><td>43.14381</td></tr>\n",
       "</tbody>\n",
       "</table>\n"
      ],
      "text/latex": [
       "A tibble: 2 × 3\n",
       "\\begin{tabular}{lll}\n",
       " anaemia & count & percentage\\\\\n",
       " <fct> & <int> & <dbl>\\\\\n",
       "\\hline\n",
       "\t no  & 170 & 56.85619\\\\\n",
       "\t yes & 129 & 43.14381\\\\\n",
       "\\end{tabular}\n"
      ],
      "text/markdown": [
       "\n",
       "A tibble: 2 × 3\n",
       "\n",
       "| anaemia &lt;fct&gt; | count &lt;int&gt; | percentage &lt;dbl&gt; |\n",
       "|---|---|---|\n",
       "| no  | 170 | 56.85619 |\n",
       "| yes | 129 | 43.14381 |\n",
       "\n"
      ],
      "text/plain": [
       "  anaemia count percentage\n",
       "1 no      170   56.85619  \n",
       "2 yes     129   43.14381  "
      ]
     },
     "metadata": {},
     "output_type": "display_data"
    },
    {
     "data": {
      "text/html": [
       "<table>\n",
       "<caption>A tibble: 2 × 3</caption>\n",
       "<thead>\n",
       "\t<tr><th scope=col>diabetes</th><th scope=col>count</th><th scope=col>percentage</th></tr>\n",
       "\t<tr><th scope=col>&lt;fct&gt;</th><th scope=col>&lt;int&gt;</th><th scope=col>&lt;dbl&gt;</th></tr>\n",
       "</thead>\n",
       "<tbody>\n",
       "\t<tr><td>no </td><td>174</td><td>58.19398</td></tr>\n",
       "\t<tr><td>yes</td><td>125</td><td>41.80602</td></tr>\n",
       "</tbody>\n",
       "</table>\n"
      ],
      "text/latex": [
       "A tibble: 2 × 3\n",
       "\\begin{tabular}{lll}\n",
       " diabetes & count & percentage\\\\\n",
       " <fct> & <int> & <dbl>\\\\\n",
       "\\hline\n",
       "\t no  & 174 & 58.19398\\\\\n",
       "\t yes & 125 & 41.80602\\\\\n",
       "\\end{tabular}\n"
      ],
      "text/markdown": [
       "\n",
       "A tibble: 2 × 3\n",
       "\n",
       "| diabetes &lt;fct&gt; | count &lt;int&gt; | percentage &lt;dbl&gt; |\n",
       "|---|---|---|\n",
       "| no  | 174 | 58.19398 |\n",
       "| yes | 125 | 41.80602 |\n",
       "\n"
      ],
      "text/plain": [
       "  diabetes count percentage\n",
       "1 no       174   58.19398  \n",
       "2 yes      125   41.80602  "
      ]
     },
     "metadata": {},
     "output_type": "display_data"
    },
    {
     "data": {
      "text/html": [
       "<table>\n",
       "<caption>A tibble: 2 × 3</caption>\n",
       "<thead>\n",
       "\t<tr><th scope=col>high_blood_pressure</th><th scope=col>count</th><th scope=col>percentage</th></tr>\n",
       "\t<tr><th scope=col>&lt;fct&gt;</th><th scope=col>&lt;int&gt;</th><th scope=col>&lt;dbl&gt;</th></tr>\n",
       "</thead>\n",
       "<tbody>\n",
       "\t<tr><td>no </td><td>194</td><td>64.88294</td></tr>\n",
       "\t<tr><td>yes</td><td>105</td><td>35.11706</td></tr>\n",
       "</tbody>\n",
       "</table>\n"
      ],
      "text/latex": [
       "A tibble: 2 × 3\n",
       "\\begin{tabular}{lll}\n",
       " high\\_blood\\_pressure & count & percentage\\\\\n",
       " <fct> & <int> & <dbl>\\\\\n",
       "\\hline\n",
       "\t no  & 194 & 64.88294\\\\\n",
       "\t yes & 105 & 35.11706\\\\\n",
       "\\end{tabular}\n"
      ],
      "text/markdown": [
       "\n",
       "A tibble: 2 × 3\n",
       "\n",
       "| high_blood_pressure &lt;fct&gt; | count &lt;int&gt; | percentage &lt;dbl&gt; |\n",
       "|---|---|---|\n",
       "| no  | 194 | 64.88294 |\n",
       "| yes | 105 | 35.11706 |\n",
       "\n"
      ],
      "text/plain": [
       "  high_blood_pressure count percentage\n",
       "1 no                  194   64.88294  \n",
       "2 yes                 105   35.11706  "
      ]
     },
     "metadata": {},
     "output_type": "display_data"
    },
    {
     "data": {
      "text/html": [
       "<table>\n",
       "<caption>A tibble: 2 × 3</caption>\n",
       "<thead>\n",
       "\t<tr><th scope=col>DEATH_EVENT</th><th scope=col>count</th><th scope=col>percentage</th></tr>\n",
       "\t<tr><th scope=col>&lt;fct&gt;</th><th scope=col>&lt;int&gt;</th><th scope=col>&lt;dbl&gt;</th></tr>\n",
       "</thead>\n",
       "<tbody>\n",
       "\t<tr><td>died    </td><td>203</td><td>67.89298</td></tr>\n",
       "\t<tr><td>survived</td><td> 96</td><td>32.10702</td></tr>\n",
       "</tbody>\n",
       "</table>\n"
      ],
      "text/latex": [
       "A tibble: 2 × 3\n",
       "\\begin{tabular}{lll}\n",
       " DEATH\\_EVENT & count & percentage\\\\\n",
       " <fct> & <int> & <dbl>\\\\\n",
       "\\hline\n",
       "\t died     & 203 & 67.89298\\\\\n",
       "\t survived &  96 & 32.10702\\\\\n",
       "\\end{tabular}\n"
      ],
      "text/markdown": [
       "\n",
       "A tibble: 2 × 3\n",
       "\n",
       "| DEATH_EVENT &lt;fct&gt; | count &lt;int&gt; | percentage &lt;dbl&gt; |\n",
       "|---|---|---|\n",
       "| died     | 203 | 67.89298 |\n",
       "| survived |  96 | 32.10702 |\n",
       "\n"
      ],
      "text/plain": [
       "  DEATH_EVENT count percentage\n",
       "1 died        203   67.89298  \n",
       "2 survived     96   32.10702  "
      ]
     },
     "metadata": {},
     "output_type": "display_data"
    }
   ],
   "source": [
    "#looking at the percentage of affermatives and negatives for each possible catergorical class to give a reason about why we chose DEATH_EVENT\n",
    "num_obs <- nrow(heart_data)\n",
    "anaemia_dist <- heart_data %>% \n",
    "  group_by(anaemia) %>% \n",
    "  summarize(\n",
    "    count = n(),\n",
    "    percentage = n() / num_obs * 100\n",
    "  )\n",
    "diabetes_dist <- heart_data %>% \n",
    "  group_by(diabetes) %>% \n",
    "  summarize(\n",
    "    count = n(),\n",
    "    percentage = n() / num_obs * 100\n",
    "  )\n",
    "bp_dist <- heart_data %>% \n",
    "  group_by(high_blood_pressure) %>% \n",
    "  summarize(\n",
    "    count = n(),\n",
    "    percentage = n() / num_obs * 100\n",
    "  )\n",
    "death_dist <- heart_data %>% \n",
    "  group_by(DEATH_EVENT) %>% \n",
    "  summarize(\n",
    "    count = n(),\n",
    "    percentage = n() / num_obs * 100\n",
    "  )\n",
    "\n",
    "anaemia_dist\n",
    "diabetes_dist\n",
    "bp_dist\n",
    "death_dist"
   ]
  },
  {
   "cell_type": "markdown",
   "metadata": {},
   "source": [
    "The distribution of all categorical classes can be seen above, since range of their distrubutions is within 10, statistically any of them can be chosen as a viable class to predict. However, due to the medical significance and strength of corelation to the features, we decided to choose \"DEATH_EVENT\" as the class which we will try to predict."
   ]
  },
  {
   "cell_type": "markdown",
   "metadata": {},
   "source": [
    "Following this analysis, all other categorical data types were removed from the dataframe. "
   ]
  },
  {
   "cell_type": "code",
   "execution_count": 6,
   "metadata": {},
   "outputs": [
    {
     "ename": "ERROR",
     "evalue": "Error in heart_select(-anaemia, -diabetes, -high_blood_pressure): could not find function \"heart_select\"\n",
     "output_type": "error",
     "traceback": [
      "Error in heart_select(-anaemia, -diabetes, -high_blood_pressure): could not find function \"heart_select\"\nTraceback:\n"
     ]
    }
   ],
   "source": [
    "heart_select(-anaemia, -diabetes, -high_blood_pressure)\n"
   ]
  },
  {
   "cell_type": "markdown",
   "metadata": {},
   "source": [
    "Expected outcomes and significance\n",
    "\n",
    "We expect to find that serum creatine, and ejection fraction can accuratly predict if a patient who has already suffered heart failure is likely to survive in the following days. By taking these predictors and applying them to new patients who have suffered heart failure we can make accurate predictions about what the this patients survival in the following days after their heart failure. This can help hospitals identify which patients will need special care and treatment in the following days after heart failure in order to increase chance of survival. Future studies may want to recreate this study in other datasets as well as use larger datasets in order to improve reliability. They may also want to look at these variables as predictors for other diseases and illnesses such as renal failure and high blood pressure.\n"
   ]
  },
  {
   "cell_type": "code",
   "execution_count": null,
   "metadata": {},
   "outputs": [],
   "source": []
  }
 ],
 "metadata": {
  "kernelspec": {
   "display_name": "R",
   "language": "R",
   "name": "ir"
  },
  "language_info": {
   "codemirror_mode": "r",
   "file_extension": ".r",
   "mimetype": "text/x-r-source",
   "name": "R",
   "pygments_lexer": "r",
   "version": "4.0.0"
  }
 },
 "nbformat": 4,
 "nbformat_minor": 4
}
