{
 "cells": [
  {
   "cell_type": "markdown",
   "metadata": {},
   "source": [
    "Proposal for Group 42"
   ]
  },
  {
   "cell_type": "markdown",
   "metadata": {},
   "source": [
    "Let's upload our possible datasets in the data folder so we can easily have a look at them and possibly run some functions on them if we need. "
   ]
  },
  {
   "cell_type": "markdown",
   "metadata": {},
   "source": [
    "Introduction:\n",
    "Cardiovascular diseases, which kill approximately 17 million people in the world, include heart attacks, heart strokes, and heart failure. Heart failure is caused when the heart cannot successfully send the required amount of blood to the body (Chicco, 2020). In this project, we will predict what factors determine whether patients can survive after heart failure. We will use dataset \"https://archive.ics.uci.edu/ml/machine-learning-databases/00519/heart_failure_clinical_records_dataset.csv\", which collects the data of 299 patients after heart failure at the Faisalabad Institute of Cardiology and at the Allied Hospital in Faisalabad during April to December 2015. \n"
   ]
  },
  {
   "cell_type": "code",
   "execution_count": 2,
   "metadata": {},
   "outputs": [
    {
     "name": "stderr",
     "output_type": "stream",
     "text": [
      "── \u001b[1mAttaching packages\u001b[22m ─────────────────────────────────────── tidyverse 1.3.0 ──\n",
      "\n",
      "\u001b[32m✔\u001b[39m \u001b[34mggplot2\u001b[39m 3.3.2     \u001b[32m✔\u001b[39m \u001b[34mpurrr  \u001b[39m 0.3.4\n",
      "\u001b[32m✔\u001b[39m \u001b[34mtibble \u001b[39m 3.0.3     \u001b[32m✔\u001b[39m \u001b[34mdplyr  \u001b[39m 1.0.2\n",
      "\u001b[32m✔\u001b[39m \u001b[34mtidyr  \u001b[39m 1.1.2     \u001b[32m✔\u001b[39m \u001b[34mstringr\u001b[39m 1.4.0\n",
      "\u001b[32m✔\u001b[39m \u001b[34mreadr  \u001b[39m 1.3.1     \u001b[32m✔\u001b[39m \u001b[34mforcats\u001b[39m 0.5.0\n",
      "\n",
      "Warning message:\n",
      "“package ‘ggplot2’ was built under R version 4.0.1”\n",
      "Warning message:\n",
      "“package ‘tibble’ was built under R version 4.0.2”\n",
      "Warning message:\n",
      "“package ‘tidyr’ was built under R version 4.0.2”\n",
      "Warning message:\n",
      "“package ‘dplyr’ was built under R version 4.0.2”\n",
      "── \u001b[1mConflicts\u001b[22m ────────────────────────────────────────── tidyverse_conflicts() ──\n",
      "\u001b[31m✖\u001b[39m \u001b[34mdplyr\u001b[39m::\u001b[32mfilter()\u001b[39m masks \u001b[34mstats\u001b[39m::filter()\n",
      "\u001b[31m✖\u001b[39m \u001b[34mdplyr\u001b[39m::\u001b[32mlag()\u001b[39m    masks \u001b[34mstats\u001b[39m::lag()\n",
      "\n",
      "Warning message:\n",
      "“package ‘tidymodels’ was built under R version 4.0.2”\n",
      "── \u001b[1mAttaching packages\u001b[22m ────────────────────────────────────── tidymodels 0.1.1 ──\n",
      "\n",
      "\u001b[32m✔\u001b[39m \u001b[34mbroom    \u001b[39m 0.7.0      \u001b[32m✔\u001b[39m \u001b[34mrecipes  \u001b[39m 0.1.13\n",
      "\u001b[32m✔\u001b[39m \u001b[34mdials    \u001b[39m 0.0.9      \u001b[32m✔\u001b[39m \u001b[34mrsample  \u001b[39m 0.0.7 \n",
      "\u001b[32m✔\u001b[39m \u001b[34minfer    \u001b[39m 0.5.4      \u001b[32m✔\u001b[39m \u001b[34mtune     \u001b[39m 0.1.1 \n",
      "\u001b[32m✔\u001b[39m \u001b[34mmodeldata\u001b[39m 0.0.2      \u001b[32m✔\u001b[39m \u001b[34mworkflows\u001b[39m 0.2.0 \n",
      "\u001b[32m✔\u001b[39m \u001b[34mparsnip  \u001b[39m 0.1.3      \u001b[32m✔\u001b[39m \u001b[34myardstick\u001b[39m 0.0.7 \n",
      "\n",
      "Warning message:\n",
      "“package ‘broom’ was built under R version 4.0.2”\n",
      "Warning message:\n",
      "“package ‘dials’ was built under R version 4.0.2”\n",
      "Warning message:\n",
      "“package ‘infer’ was built under R version 4.0.3”\n",
      "Warning message:\n",
      "“package ‘modeldata’ was built under R version 4.0.1”\n",
      "Warning message:\n",
      "“package ‘parsnip’ was built under R version 4.0.2”\n",
      "Warning message:\n",
      "“package ‘recipes’ was built under R version 4.0.1”\n",
      "Warning message:\n",
      "“package ‘tune’ was built under R version 4.0.2”\n",
      "Warning message:\n",
      "“package ‘workflows’ was built under R version 4.0.2”\n",
      "Warning message:\n",
      "“package ‘yardstick’ was built under R version 4.0.2”\n",
      "── \u001b[1mConflicts\u001b[22m ───────────────────────────────────────── tidymodels_conflicts() ──\n",
      "\u001b[31m✖\u001b[39m \u001b[34mscales\u001b[39m::\u001b[32mdiscard()\u001b[39m masks \u001b[34mpurrr\u001b[39m::discard()\n",
      "\u001b[31m✖\u001b[39m \u001b[34mdplyr\u001b[39m::\u001b[32mfilter()\u001b[39m   masks \u001b[34mstats\u001b[39m::filter()\n",
      "\u001b[31m✖\u001b[39m \u001b[34mrecipes\u001b[39m::\u001b[32mfixed()\u001b[39m  masks \u001b[34mstringr\u001b[39m::fixed()\n",
      "\u001b[31m✖\u001b[39m \u001b[34mdplyr\u001b[39m::\u001b[32mlag()\u001b[39m      masks \u001b[34mstats\u001b[39m::lag()\n",
      "\u001b[31m✖\u001b[39m \u001b[34myardstick\u001b[39m::\u001b[32mspec()\u001b[39m masks \u001b[34mreadr\u001b[39m::spec()\n",
      "\u001b[31m✖\u001b[39m \u001b[34mrecipes\u001b[39m::\u001b[32mstep()\u001b[39m   masks \u001b[34mstats\u001b[39m::step()\n",
      "\n"
     ]
    }
   ],
   "source": [
    "library(tidyverse)\n",
    "library(tidymodels)\n",
    "library(repr)\n",
    "options(repr.matrix.max.rows = 6)"
   ]
  },
  {
   "cell_type": "code",
   "execution_count": 8,
   "metadata": {},
   "outputs": [
    {
     "name": "stderr",
     "output_type": "stream",
     "text": [
      "Parsed with column specification:\n",
      "cols(\n",
      "  age = \u001b[32mcol_double()\u001b[39m,\n",
      "  anaemia = \u001b[32mcol_double()\u001b[39m,\n",
      "  creatinine_phosphokinase = \u001b[32mcol_double()\u001b[39m,\n",
      "  diabetes = \u001b[32mcol_double()\u001b[39m,\n",
      "  ejection_fraction = \u001b[32mcol_double()\u001b[39m,\n",
      "  high_blood_pressure = \u001b[32mcol_double()\u001b[39m,\n",
      "  platelets = \u001b[32mcol_double()\u001b[39m,\n",
      "  serum_creatinine = \u001b[32mcol_double()\u001b[39m,\n",
      "  serum_sodium = \u001b[32mcol_double()\u001b[39m,\n",
      "  sex = \u001b[32mcol_double()\u001b[39m,\n",
      "  smoking = \u001b[32mcol_double()\u001b[39m,\n",
      "  time = \u001b[32mcol_double()\u001b[39m,\n",
      "  DEATH_EVENT = \u001b[32mcol_double()\u001b[39m\n",
      ")\n",
      "\n"
     ]
    },
    {
     "data": {
      "text/html": [
       "<table>\n",
       "<caption>A tibble: 225 × 13</caption>\n",
       "<thead>\n",
       "\t<tr><th scope=col>age</th><th scope=col>anaemia</th><th scope=col>creatinine_phosphokinase</th><th scope=col>diabetes</th><th scope=col>ejection_fraction</th><th scope=col>high_blood_pressure</th><th scope=col>platelets</th><th scope=col>serum_creatinine</th><th scope=col>serum_sodium</th><th scope=col>sex</th><th scope=col>smoking</th><th scope=col>time</th><th scope=col>DEATH_EVENT</th></tr>\n",
       "\t<tr><th scope=col>&lt;dbl&gt;</th><th scope=col>&lt;fct&gt;</th><th scope=col>&lt;dbl&gt;</th><th scope=col>&lt;fct&gt;</th><th scope=col>&lt;dbl&gt;</th><th scope=col>&lt;fct&gt;</th><th scope=col>&lt;dbl&gt;</th><th scope=col>&lt;dbl&gt;</th><th scope=col>&lt;dbl&gt;</th><th scope=col>&lt;fct&gt;</th><th scope=col>&lt;fct&gt;</th><th scope=col>&lt;dbl&gt;</th><th scope=col>&lt;fct&gt;</th></tr>\n",
       "</thead>\n",
       "<tbody>\n",
       "\t<tr><td>55</td><td>no </td><td>7861</td><td>no</td><td>38</td><td>no </td><td>263358</td><td>1.1</td><td>136</td><td>male</td><td>no </td><td>6</td><td>survived</td></tr>\n",
       "\t<tr><td>65</td><td>no </td><td> 146</td><td>no</td><td>20</td><td>no </td><td>162000</td><td>1.3</td><td>129</td><td>male</td><td>yes</td><td>7</td><td>survived</td></tr>\n",
       "\t<tr><td>90</td><td>yes</td><td>  47</td><td>no</td><td>40</td><td>yes</td><td>204000</td><td>2.1</td><td>132</td><td>male</td><td>yes</td><td>8</td><td>survived</td></tr>\n",
       "\t<tr><td>⋮</td><td>⋮</td><td>⋮</td><td>⋮</td><td>⋮</td><td>⋮</td><td>⋮</td><td>⋮</td><td>⋮</td><td>⋮</td><td>⋮</td><td>⋮</td><td>⋮</td></tr>\n",
       "\t<tr><td>45</td><td>no</td><td>2060</td><td>yes</td><td>60</td><td>no</td><td>742000</td><td>0.8</td><td>138</td><td>female</td><td>no </td><td>278</td><td>died</td></tr>\n",
       "\t<tr><td>45</td><td>no</td><td>2413</td><td>no </td><td>38</td><td>no</td><td>140000</td><td>1.4</td><td>140</td><td>male  </td><td>yes</td><td>280</td><td>died</td></tr>\n",
       "\t<tr><td>50</td><td>no</td><td> 196</td><td>no </td><td>45</td><td>no</td><td>395000</td><td>1.6</td><td>136</td><td>male  </td><td>yes</td><td>285</td><td>died</td></tr>\n",
       "</tbody>\n",
       "</table>\n"
      ],
      "text/latex": [
       "A tibble: 225 × 13\n",
       "\\begin{tabular}{lllllllllllll}\n",
       " age & anaemia & creatinine\\_phosphokinase & diabetes & ejection\\_fraction & high\\_blood\\_pressure & platelets & serum\\_creatinine & serum\\_sodium & sex & smoking & time & DEATH\\_EVENT\\\\\n",
       " <dbl> & <fct> & <dbl> & <fct> & <dbl> & <fct> & <dbl> & <dbl> & <dbl> & <fct> & <fct> & <dbl> & <fct>\\\\\n",
       "\\hline\n",
       "\t 55 & no  & 7861 & no & 38 & no  & 263358 & 1.1 & 136 & male & no  & 6 & survived\\\\\n",
       "\t 65 & no  &  146 & no & 20 & no  & 162000 & 1.3 & 129 & male & yes & 7 & survived\\\\\n",
       "\t 90 & yes &   47 & no & 40 & yes & 204000 & 2.1 & 132 & male & yes & 8 & survived\\\\\n",
       "\t ⋮ & ⋮ & ⋮ & ⋮ & ⋮ & ⋮ & ⋮ & ⋮ & ⋮ & ⋮ & ⋮ & ⋮ & ⋮\\\\\n",
       "\t 45 & no & 2060 & yes & 60 & no & 742000 & 0.8 & 138 & female & no  & 278 & died\\\\\n",
       "\t 45 & no & 2413 & no  & 38 & no & 140000 & 1.4 & 140 & male   & yes & 280 & died\\\\\n",
       "\t 50 & no &  196 & no  & 45 & no & 395000 & 1.6 & 136 & male   & yes & 285 & died\\\\\n",
       "\\end{tabular}\n"
      ],
      "text/markdown": [
       "\n",
       "A tibble: 225 × 13\n",
       "\n",
       "| age &lt;dbl&gt; | anaemia &lt;fct&gt; | creatinine_phosphokinase &lt;dbl&gt; | diabetes &lt;fct&gt; | ejection_fraction &lt;dbl&gt; | high_blood_pressure &lt;fct&gt; | platelets &lt;dbl&gt; | serum_creatinine &lt;dbl&gt; | serum_sodium &lt;dbl&gt; | sex &lt;fct&gt; | smoking &lt;fct&gt; | time &lt;dbl&gt; | DEATH_EVENT &lt;fct&gt; |\n",
       "|---|---|---|---|---|---|---|---|---|---|---|---|---|\n",
       "| 55 | no  | 7861 | no | 38 | no  | 263358 | 1.1 | 136 | male | no  | 6 | survived |\n",
       "| 65 | no  |  146 | no | 20 | no  | 162000 | 1.3 | 129 | male | yes | 7 | survived |\n",
       "| 90 | yes |   47 | no | 40 | yes | 204000 | 2.1 | 132 | male | yes | 8 | survived |\n",
       "| ⋮ | ⋮ | ⋮ | ⋮ | ⋮ | ⋮ | ⋮ | ⋮ | ⋮ | ⋮ | ⋮ | ⋮ | ⋮ |\n",
       "| 45 | no | 2060 | yes | 60 | no | 742000 | 0.8 | 138 | female | no  | 278 | died |\n",
       "| 45 | no | 2413 | no  | 38 | no | 140000 | 1.4 | 140 | male   | yes | 280 | died |\n",
       "| 50 | no |  196 | no  | 45 | no | 395000 | 1.6 | 136 | male   | yes | 285 | died |\n",
       "\n"
      ],
      "text/plain": [
       "    age anaemia creatinine_phosphokinase diabetes ejection_fraction\n",
       "1   55  no      7861                     no       38               \n",
       "2   65  no       146                     no       20               \n",
       "3   90  yes       47                     no       40               \n",
       "⋮   ⋮   ⋮       ⋮                        ⋮        ⋮                \n",
       "223 45  no      2060                     yes      60               \n",
       "224 45  no      2413                     no       38               \n",
       "225 50  no       196                     no       45               \n",
       "    high_blood_pressure platelets serum_creatinine serum_sodium sex    smoking\n",
       "1   no                  263358    1.1              136          male   no     \n",
       "2   no                  162000    1.3              129          male   yes    \n",
       "3   yes                 204000    2.1              132          male   yes    \n",
       "⋮   ⋮                   ⋮         ⋮                ⋮            ⋮      ⋮      \n",
       "223 no                  742000    0.8              138          female no     \n",
       "224 no                  140000    1.4              140          male   yes    \n",
       "225 no                  395000    1.6              136          male   yes    \n",
       "    time DEATH_EVENT\n",
       "1   6    survived   \n",
       "2   7    survived   \n",
       "3   8    survived   \n",
       "⋮   ⋮    ⋮          \n",
       "223 278  died       \n",
       "224 280  died       \n",
       "225 285  died       "
      ]
     },
     "metadata": {},
     "output_type": "display_data"
    }
   ],
   "source": [
    "#reads in data as well as turns relevant double columns into factors \n",
    "\n",
    "url<- \"https://archive.ics.uci.edu/ml/machine-learning-databases/00519/heart_failure_clinical_records_dataset.csv\"\n",
    "\n",
    "\n",
    "heart_data <- read_csv(url)%>%\n",
    "    mutate(sex = as_factor(sex))%>%\n",
    "    mutate(smoking = as_factor(smoking))%>%\n",
    "    mutate(DEATH_EVENT = as_factor(DEATH_EVENT))%>%\n",
    "    mutate(high_blood_pressure = as_factor(high_blood_pressure))%>%\n",
    "    mutate(diabetes = as_factor(diabetes))%>%\n",
    "    mutate(anaemia= as_factor(anaemia)) \n",
    "\n",
    "\n",
    "#creates factor levels for columns that make sense with column name \n",
    "levels(heart_data$sex)<- c(\"female\",\"male\")\n",
    "levels(heart_data$smoking)<- c(\"no\",\"yes\")\n",
    "levels(heart_data$DEATH_EVENT)<- c(\"died\",\"survived\")\n",
    "levels(heart_data$high_blood_pressure)<- c(\"no\",\"yes\")\n",
    "levels(heart_data$diabetes)<- c(\"no\",\"yes\")\n",
    "levels(heart_data$anaemia)<- c(\"no\",\"yes\")\n",
    "\n",
    "\n",
    "#split the data into training and testing data \n",
    "heart_data_split<- initial_split(heart_data, prop = .75, strata = DEATH_EVENT)\n",
    "heart_train<- training(heart_data_split)\n",
    "heart_test<- testing(heart_data_split)\n",
    " \n",
    "\n",
    "\n"
   ]
  },
  {
   "cell_type": "markdown",
   "metadata": {},
   "source": []
  },
  {
   "cell_type": "code",
   "execution_count": 6,
   "metadata": {},
   "outputs": [
    {
     "name": "stderr",
     "output_type": "stream",
     "text": [
      "`summarise()` ungrouping output (override with `.groups` argument)\n",
      "\n",
      "`summarise()` ungrouping output (override with `.groups` argument)\n",
      "\n",
      "`summarise()` ungrouping output (override with `.groups` argument)\n",
      "\n",
      "`summarise()` ungrouping output (override with `.groups` argument)\n",
      "\n"
     ]
    },
    {
     "data": {
      "text/html": [
       "<table>\n",
       "<caption>A tibble: 2 × 3</caption>\n",
       "<thead>\n",
       "\t<tr><th scope=col>anaemia</th><th scope=col>count</th><th scope=col>percentage</th></tr>\n",
       "\t<tr><th scope=col>&lt;fct&gt;</th><th scope=col>&lt;int&gt;</th><th scope=col>&lt;dbl&gt;</th></tr>\n",
       "</thead>\n",
       "<tbody>\n",
       "\t<tr><td>no </td><td>126</td><td>56</td></tr>\n",
       "\t<tr><td>yes</td><td> 99</td><td>44</td></tr>\n",
       "</tbody>\n",
       "</table>\n"
      ],
      "text/latex": [
       "A tibble: 2 × 3\n",
       "\\begin{tabular}{lll}\n",
       " anaemia & count & percentage\\\\\n",
       " <fct> & <int> & <dbl>\\\\\n",
       "\\hline\n",
       "\t no  & 126 & 56\\\\\n",
       "\t yes &  99 & 44\\\\\n",
       "\\end{tabular}\n"
      ],
      "text/markdown": [
       "\n",
       "A tibble: 2 × 3\n",
       "\n",
       "| anaemia &lt;fct&gt; | count &lt;int&gt; | percentage &lt;dbl&gt; |\n",
       "|---|---|---|\n",
       "| no  | 126 | 56 |\n",
       "| yes |  99 | 44 |\n",
       "\n"
      ],
      "text/plain": [
       "  anaemia count percentage\n",
       "1 no      126   56        \n",
       "2 yes      99   44        "
      ]
     },
     "metadata": {},
     "output_type": "display_data"
    },
    {
     "data": {
      "text/html": [
       "<table>\n",
       "<caption>A tibble: 2 × 3</caption>\n",
       "<thead>\n",
       "\t<tr><th scope=col>diabetes</th><th scope=col>count</th><th scope=col>percentage</th></tr>\n",
       "\t<tr><th scope=col>&lt;fct&gt;</th><th scope=col>&lt;int&gt;</th><th scope=col>&lt;dbl&gt;</th></tr>\n",
       "</thead>\n",
       "<tbody>\n",
       "\t<tr><td>no </td><td>133</td><td>59.11111</td></tr>\n",
       "\t<tr><td>yes</td><td> 92</td><td>40.88889</td></tr>\n",
       "</tbody>\n",
       "</table>\n"
      ],
      "text/latex": [
       "A tibble: 2 × 3\n",
       "\\begin{tabular}{lll}\n",
       " diabetes & count & percentage\\\\\n",
       " <fct> & <int> & <dbl>\\\\\n",
       "\\hline\n",
       "\t no  & 133 & 59.11111\\\\\n",
       "\t yes &  92 & 40.88889\\\\\n",
       "\\end{tabular}\n"
      ],
      "text/markdown": [
       "\n",
       "A tibble: 2 × 3\n",
       "\n",
       "| diabetes &lt;fct&gt; | count &lt;int&gt; | percentage &lt;dbl&gt; |\n",
       "|---|---|---|\n",
       "| no  | 133 | 59.11111 |\n",
       "| yes |  92 | 40.88889 |\n",
       "\n"
      ],
      "text/plain": [
       "  diabetes count percentage\n",
       "1 no       133   59.11111  \n",
       "2 yes       92   40.88889  "
      ]
     },
     "metadata": {},
     "output_type": "display_data"
    },
    {
     "data": {
      "text/html": [
       "<table>\n",
       "<caption>A tibble: 2 × 3</caption>\n",
       "<thead>\n",
       "\t<tr><th scope=col>high_blood_pressure</th><th scope=col>count</th><th scope=col>percentage</th></tr>\n",
       "\t<tr><th scope=col>&lt;fct&gt;</th><th scope=col>&lt;int&gt;</th><th scope=col>&lt;dbl&gt;</th></tr>\n",
       "</thead>\n",
       "<tbody>\n",
       "\t<tr><td>no </td><td>145</td><td>64.44444</td></tr>\n",
       "\t<tr><td>yes</td><td> 80</td><td>35.55556</td></tr>\n",
       "</tbody>\n",
       "</table>\n"
      ],
      "text/latex": [
       "A tibble: 2 × 3\n",
       "\\begin{tabular}{lll}\n",
       " high\\_blood\\_pressure & count & percentage\\\\\n",
       " <fct> & <int> & <dbl>\\\\\n",
       "\\hline\n",
       "\t no  & 145 & 64.44444\\\\\n",
       "\t yes &  80 & 35.55556\\\\\n",
       "\\end{tabular}\n"
      ],
      "text/markdown": [
       "\n",
       "A tibble: 2 × 3\n",
       "\n",
       "| high_blood_pressure &lt;fct&gt; | count &lt;int&gt; | percentage &lt;dbl&gt; |\n",
       "|---|---|---|\n",
       "| no  | 145 | 64.44444 |\n",
       "| yes |  80 | 35.55556 |\n",
       "\n"
      ],
      "text/plain": [
       "  high_blood_pressure count percentage\n",
       "1 no                  145   64.44444  \n",
       "2 yes                  80   35.55556  "
      ]
     },
     "metadata": {},
     "output_type": "display_data"
    },
    {
     "data": {
      "text/html": [
       "<table>\n",
       "<caption>A tibble: 2 × 3</caption>\n",
       "<thead>\n",
       "\t<tr><th scope=col>DEATH_EVENT</th><th scope=col>count</th><th scope=col>percentage</th></tr>\n",
       "\t<tr><th scope=col>&lt;fct&gt;</th><th scope=col>&lt;int&gt;</th><th scope=col>&lt;dbl&gt;</th></tr>\n",
       "</thead>\n",
       "<tbody>\n",
       "\t<tr><td>died    </td><td>153</td><td>68</td></tr>\n",
       "\t<tr><td>survived</td><td> 72</td><td>32</td></tr>\n",
       "</tbody>\n",
       "</table>\n"
      ],
      "text/latex": [
       "A tibble: 2 × 3\n",
       "\\begin{tabular}{lll}\n",
       " DEATH\\_EVENT & count & percentage\\\\\n",
       " <fct> & <int> & <dbl>\\\\\n",
       "\\hline\n",
       "\t died     & 153 & 68\\\\\n",
       "\t survived &  72 & 32\\\\\n",
       "\\end{tabular}\n"
      ],
      "text/markdown": [
       "\n",
       "A tibble: 2 × 3\n",
       "\n",
       "| DEATH_EVENT &lt;fct&gt; | count &lt;int&gt; | percentage &lt;dbl&gt; |\n",
       "|---|---|---|\n",
       "| died     | 153 | 68 |\n",
       "| survived |  72 | 32 |\n",
       "\n"
      ],
      "text/plain": [
       "  DEATH_EVENT count percentage\n",
       "1 died        153   68        \n",
       "2 survived     72   32        "
      ]
     },
     "metadata": {},
     "output_type": "display_data"
    }
   ],
   "source": [
    "#looking at the percentage of affermatives and negatives for each possible catergorical class to give a reason about why we chose DEATH_EVENT\n",
    "num_obs <- nrow(heart_train)\n",
    "anaemia_dist <- heart_train %>% \n",
    "  group_by(anaemia) %>% \n",
    "  summarize(\n",
    "    count = n(),\n",
    "    percentage = n() / num_obs * 100\n",
    "  )\n",
    "diabetes_dist <- heart_train %>% \n",
    "  group_by(diabetes) %>% \n",
    "  summarize(\n",
    "    count = n(),\n",
    "    percentage = n() / num_obs * 100\n",
    "  )\n",
    "bp_dist <- heart_train %>% \n",
    "  group_by(high_blood_pressure) %>% \n",
    "  summarize(\n",
    "    count = n(),\n",
    "    percentage = n() / num_obs * 100\n",
    "  )\n",
    "death_dist <- heart_train %>% \n",
    "  group_by(DEATH_EVENT) %>% \n",
    "  summarize(\n",
    "    count = n(),\n",
    "    percentage = n() / num_obs * 100\n",
    "  )\n",
    "\n",
    "anaemia_dist\n",
    "diabetes_dist\n",
    "bp_dist\n",
    "death_dist"
   ]
  },
  {
   "cell_type": "markdown",
   "metadata": {},
   "source": [
    "The distribution of all categorical classes can be seen above, since range of their distrubutions is within 10, statistically any of them can be chosen as a viable class to predict. However, due to the medical significance and strength of corelation to the features, we decided to choose \"DEATH_EVENT\" as the class which we will try to predict."
   ]
  },
  {
   "cell_type": "markdown",
   "metadata": {},
   "source": [
    "Following this analysis, all other categorical data types were removed from the dataframe. "
   ]
  },
  {
   "cell_type": "code",
   "execution_count": 24,
   "metadata": {},
   "outputs": [
    {
     "data": {
      "text/html": [
       "<table>\n",
       "<caption>A tibble: 6 × 3</caption>\n",
       "<thead>\n",
       "\t<tr><th scope=col>size</th><th scope=col>model_string</th><th scope=col>accuracy</th></tr>\n",
       "\t<tr><th scope=col>&lt;int&gt;</th><th scope=col>&lt;chr&gt;</th><th scope=col>&lt;dbl&gt;</th></tr>\n",
       "</thead>\n",
       "<tbody>\n",
       "\t<tr><td>1</td><td>DEATH_EVENT ~ ejection_fraction                                                                     </td><td>0.6826748</td></tr>\n",
       "\t<tr><td>2</td><td>DEATH_EVENT ~ ejection_fraction+age                                                                 </td><td>0.7590720</td></tr>\n",
       "\t<tr><td>3</td><td>DEATH_EVENT ~ ejection_fraction+age+serum_creatinine                                                </td><td>0.7564055</td></tr>\n",
       "\t<tr><td>4</td><td>DEATH_EVENT ~ ejection_fraction+age+serum_creatinine+serum_sodium                                   </td><td>0.7466278</td></tr>\n",
       "\t<tr><td>5</td><td>DEATH_EVENT ~ ejection_fraction+age+serum_creatinine+serum_sodium+platelets                         </td><td>0.7431249</td></tr>\n",
       "\t<tr><td>6</td><td>DEATH_EVENT ~ ejection_fraction+age+serum_creatinine+serum_sodium+platelets+creatinine_phosphokinase</td><td>0.7364601</td></tr>\n",
       "</tbody>\n",
       "</table>\n"
      ],
      "text/latex": [
       "A tibble: 6 × 3\n",
       "\\begin{tabular}{lll}\n",
       " size & model\\_string & accuracy\\\\\n",
       " <int> & <chr> & <dbl>\\\\\n",
       "\\hline\n",
       "\t 1 & DEATH\\_EVENT \\textasciitilde{} ejection\\_fraction                                                                      & 0.6826748\\\\\n",
       "\t 2 & DEATH\\_EVENT \\textasciitilde{} ejection\\_fraction+age                                                                  & 0.7590720\\\\\n",
       "\t 3 & DEATH\\_EVENT \\textasciitilde{} ejection\\_fraction+age+serum\\_creatinine                                                 & 0.7564055\\\\\n",
       "\t 4 & DEATH\\_EVENT \\textasciitilde{} ejection\\_fraction+age+serum\\_creatinine+serum\\_sodium                                    & 0.7466278\\\\\n",
       "\t 5 & DEATH\\_EVENT \\textasciitilde{} ejection\\_fraction+age+serum\\_creatinine+serum\\_sodium+platelets                          & 0.7431249\\\\\n",
       "\t 6 & DEATH\\_EVENT \\textasciitilde{} ejection\\_fraction+age+serum\\_creatinine+serum\\_sodium+platelets+creatinine\\_phosphokinase & 0.7364601\\\\\n",
       "\\end{tabular}\n"
      ],
      "text/markdown": [
       "\n",
       "A tibble: 6 × 3\n",
       "\n",
       "| size &lt;int&gt; | model_string &lt;chr&gt; | accuracy &lt;dbl&gt; |\n",
       "|---|---|---|\n",
       "| 1 | DEATH_EVENT ~ ejection_fraction                                                                      | 0.6826748 |\n",
       "| 2 | DEATH_EVENT ~ ejection_fraction+age                                                                  | 0.7590720 |\n",
       "| 3 | DEATH_EVENT ~ ejection_fraction+age+serum_creatinine                                                 | 0.7564055 |\n",
       "| 4 | DEATH_EVENT ~ ejection_fraction+age+serum_creatinine+serum_sodium                                    | 0.7466278 |\n",
       "| 5 | DEATH_EVENT ~ ejection_fraction+age+serum_creatinine+serum_sodium+platelets                          | 0.7431249 |\n",
       "| 6 | DEATH_EVENT ~ ejection_fraction+age+serum_creatinine+serum_sodium+platelets+creatinine_phosphokinase | 0.7364601 |\n",
       "\n"
      ],
      "text/plain": [
       "  size\n",
       "1 1   \n",
       "2 2   \n",
       "3 3   \n",
       "4 4   \n",
       "5 5   \n",
       "6 6   \n",
       "  model_string                                                                                        \n",
       "1 DEATH_EVENT ~ ejection_fraction                                                                     \n",
       "2 DEATH_EVENT ~ ejection_fraction+age                                                                 \n",
       "3 DEATH_EVENT ~ ejection_fraction+age+serum_creatinine                                                \n",
       "4 DEATH_EVENT ~ ejection_fraction+age+serum_creatinine+serum_sodium                                   \n",
       "5 DEATH_EVENT ~ ejection_fraction+age+serum_creatinine+serum_sodium+platelets                         \n",
       "6 DEATH_EVENT ~ ejection_fraction+age+serum_creatinine+serum_sodium+platelets+creatinine_phosphokinase\n",
       "  accuracy \n",
       "1 0.6826748\n",
       "2 0.7590720\n",
       "3 0.7564055\n",
       "4 0.7466278\n",
       "5 0.7431249\n",
       "6 0.7364601"
      ]
     },
     "metadata": {},
     "output_type": "display_data"
    }
   ],
   "source": [
    "# CODE TO SELECT THE BEST PREDICTOR VARIABLES\n",
    "\n",
    "# # remove categorical columns from the dataset and only keep numerical\n",
    "# heart_numerical <- heart_data %>% \n",
    "#     select(-anaemia, -diabetes, -high_blood_pressure, -sex, -smoking, -time)\n",
    "\n",
    "# #Evaluate which predictive variables to choose\n",
    "\n",
    "# # create object of names of all predictive variables\n",
    "# names <- colnames(heart_numerical %>% select(-DEATH_EVENT))\n",
    "\n",
    "# # create an empty tibble to store the results\n",
    "# accuracies <- tibble(size = integer(), \n",
    "#                      model_string = character(), \n",
    "#                      accuracy = numeric())\n",
    "\n",
    "# # create a model specification\n",
    "# knn_spec <- nearest_neighbor(weight_func = \"rectangular\", \n",
    "#                              neighbors = tune()) %>% \n",
    "#      set_engine(\"kknn\") %>% \n",
    "#      set_mode(\"classification\")\n",
    "\n",
    "# # create a 5-fold cross-validation object\n",
    "# heart_vfold <- vfold_cv(heart_numerical, v = 5, strata = DEATH_EVENT)\n",
    "\n",
    "# # store the total number of predictors\n",
    "# n_total <- length(names)\n",
    "\n",
    "# # stores selected predictors\n",
    "# selected <- c()\n",
    "\n",
    "# # for every size from 1 to the total number of predictors\n",
    "# for (i in 1:n_total) {\n",
    "#     # for every predictor still not added yet\n",
    "#     accs <- list()\n",
    "#     models <- list()\n",
    "#     for (j in 1:length(names)) {\n",
    "#         # create a model string for this combination of predictors\n",
    "#         preds_new <- c(selected, names[[j]])\n",
    "#         model_string <- paste(\"DEATH_EVENT\", \"~\", paste(preds_new, collapse=\"+\"))\n",
    "\n",
    "#         # create a recipe from the model string\n",
    "#         heart_recipe <- recipe(as.formula(model_string), \n",
    "#                                 data = heart_numerical) %>% \n",
    "#                           step_scale(all_predictors()) %>% \n",
    "#                           step_center(all_predictors())\n",
    "\n",
    "#         # tune the KNN classifier with these predictors, \n",
    "#         # and collect the accuracy for the best K\n",
    "#         acc <- workflow() %>% \n",
    "#           add_recipe(heart_recipe) %>% \n",
    "#           add_model(knn_spec) %>% \n",
    "#           tune_grid(resamples = heart_vfold, grid = 10) %>% \n",
    "#           collect_metrics() %>% \n",
    "#           filter(.metric == \"accuracy\") %>% \n",
    "#           summarize(mx = max(mean))\n",
    "#         acc <- acc$mx %>% unlist()\n",
    "\n",
    "#         # add this result to the dataframe\n",
    "#         accs[[j]] <- acc\n",
    "#         models[[j]] <- model_string\n",
    "#     }\n",
    "#     jstar <- which.max(unlist(accs))\n",
    "#     accuracies <- accuracies %>% \n",
    "#       add_row(size = i, \n",
    "#               model_string = models[[jstar]], \n",
    "#               accuracy = accs[[jstar]])\n",
    "#     selected <- c(selected, names[[jstar]])\n",
    "#     names <- names[-jstar]\n",
    "# }\n",
    "\n",
    "# accuracies"
   ]
  },
  {
   "cell_type": "markdown",
   "metadata": {},
   "source": [
    "From this table we can see that the ejection fraction and age have the greates accuracy for predicting a death event. However, sinceit is clear older age is more likely to lead to a death event we will use the second most accurate set of predictors which is ejection fraction and serum creatine without age. "
   ]
  },
  {
   "cell_type": "code",
   "execution_count": 19,
   "metadata": {},
   "outputs": [
    {
     "data": {
      "image/png": "[encoded data removed]",
      "text/plain": [
       "plot without title"
      ]
     },
     "metadata": {
      "image/png": {
       "height": 600,
       "width": 900
      }
     },
     "output_type": "display_data"
    }
   ],
   "source": [
    "options(repr.plot.height = 10, repr.plot.width = 15)\n",
    "\n",
    "heart_plot<- heart_train%>%\n",
    "    ggplot(aes(x= serum_creatinine, y = ejection_fraction))+\n",
    "    geom_point(aes(color = DEATH_EVENT))+\n",
    "    labs(x = \"Serum Creatinine Levels (mg/dL)\", y = \"Ejection Fraction (%)\", \n",
    "         title = \"Serum Creatinine and Ejection Fraction\\n as Predictors for a Death Event\",\n",
    "         color = \"Patient Outcome\")+\n",
    "    theme(text = element_text(size = 20), plot.title = element_text(hjust = .5))+\n",
    "    scale_x_log10()\n",
    "\n",
    "heart_plot"
   ]
  },
  {
   "cell_type": "markdown",
   "metadata": {},
   "source": [
    "The plot above shows the distribution of our two predictors in relation to our variable that we are trying to predict, death event (in this graph it is labeled as patient outcome, but that is the same as death event)."
   ]
  },
  {
   "cell_type": "markdown",
   "metadata": {},
   "source": [
    "Expected outcomes and significance\n",
    "\n",
    "We expect to find that serum creatine and ejection fraction can accuratly predict if a patient who has already suffered heart failure is likely to survive in the following days. By taking these predictors and applying them to new patients who have suffered heart failure we can make accurate predictions about what the this patients survival in the following days after their heart failure. This can help hospitals identify which patients will need special care and treatment in the following days after heart failure in order to increase chance of survival. Future studies may want to recreate this study in other datasets as well as larger datasets in order to improve reliability. They may also want to look at these variables as predictors for other diseases and illnesses such as renal failure and high blood pressure."
   ]
  }
 ],
 "metadata": {
  "kernelspec": {
   "display_name": "R",
   "language": "R",
   "name": "ir"
  },
  "language_info": {
   "codemirror_mode": "r",
   "file_extension": ".r",
   "mimetype": "text/x-r-source",
   "name": "R",
   "pygments_lexer": "r",
   "version": "4.0.0"
  }
 },
 "nbformat": 4,
 "nbformat_minor": 4
}
